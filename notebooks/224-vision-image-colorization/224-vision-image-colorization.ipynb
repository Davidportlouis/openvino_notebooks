{
 "cells": [
  {
   "cell_type": "markdown",
   "id": "1662ee2c-fdcd-4b68-a65d-3b03a9e6aadf",
   "metadata": {},
   "source": [
    "### Image Colorization with OpenVino\n",
    "\n",
    "This notebook demonstrates how to colorize images with OpenVINO using the Colorization model [colorization-v2](https://github.com/openvinotoolkit/open_model_zoo/blob/master/models/public/colorization-v2/README.md) from [Open Model Zoo](https://github.com/openvinotoolkit/open_model_zoo/blob/master/models/public/index.md).\n",
    "\n",
    "\n",
    "\n",
    "The idea here is given a grayscale image as input, the model hallucinates a plausible, vibrant & realistic colorized version of the image."
   ]
  },
  {
   "cell_type": "markdown",
   "id": "0ae449c6-8a58-4d2c-8389-fde359ad7d1a",
   "metadata": {},
   "source": [
    "## Imports"
   ]
  },
  {
   "cell_type": "code",
   "execution_count": null,
   "id": "dd439f78-a4b6-48b2-946e-a308383cf787",
   "metadata": {},
   "outputs": [],
   "source": [
    "import cv2\n",
    "import numpy as np\n",
    "import matplotlib.pyplot as plt\n",
    "from openvino.runtime import Core"
   ]
  },
  {
   "cell_type": "markdown",
   "id": "4cf87170-fd22-4fcf-b687-51b404be0db4",
   "metadata": {},
   "source": [
    "## Download the model\n",
    "\n"
   ]
  },
  {
   "cell_type": "code",
   "execution_count": 1,
   "id": "679a06d8-d0ec-440f-ae7a-afc4ebe841e6",
   "metadata": {},
   "outputs": [
    {
     "name": "stdout",
     "output_type": "stream",
     "text": [
      "################|| Downloading colorization-v2 ||################\n",
      "\n",
      "========== Downloading model/public/colorization-v2/ckpt/colorization-v2-eccv16.pth\n",
      "... 100%, 125953 KB, 7647 KB/s, 16 seconds passed\n",
      "\n",
      "========== Downloading model/public/colorization-v2/model/__init__.py\n",
      "... 100%, 0 KB, 93 KB/s, 0 seconds passed\n",
      "\n",
      "========== Downloading model/public/colorization-v2/model/base_color.py\n",
      "... 100%, 0 KB, 1414 KB/s, 0 seconds passed\n",
      "\n",
      "========== Downloading model/public/colorization-v2/model/eccv16.py\n",
      "... 100%, 4 KB, 15905 KB/s, 0 seconds passed\n",
      "\n",
      "========== Replacing text in model/public/colorization-v2/model/__init__.py\n",
      "========== Replacing text in model/public/colorization-v2/model/__init__.py\n",
      "========== Replacing text in model/public/colorization-v2/model/eccv16.py\n",
      "\n"
     ]
    }
   ],
   "source": [
    "!omz_downloader --name colorization-v2"
   ]
  },
  {
   "cell_type": "code",
   "execution_count": 4,
   "id": "78cb56dd-0bd5-4a27-8588-91fb79a9b857",
   "metadata": {},
   "outputs": [
    {
     "name": "stdout",
     "output_type": "stream",
     "text": [
      "========== Converting colorization-v2 to ONNX\n",
      "Conversion to ONNX command: /home/art3mis/miniconda3/envs/openvino_env/bin/python -- /home/art3mis/miniconda3/envs/openvino_env/lib/python3.7/site-packages/openvino/model_zoo/internal_scripts/pytorch_to_onnx.py --model-path=model/public/colorization-v2 --model-name=ECCVGenerator --weights=model/public/colorization-v2/ckpt/colorization-v2-eccv16.pth --import-module=model --input-shape=1,1,256,256 --output-file=model/public/colorization-v2/colorization-v2-eccv16.onnx --input-names=data_l --output-names=color_ab\n",
      "\n",
      "/home/art3mis/miniconda3/envs/openvino_env/lib/python3.7/site-packages/numpy/__init__.py:156: UserWarning: mkl-service package failed to import, therefore Intel(R) MKL initialization ensuring its correct out-of-the box operation under condition when Gnu OpenMP had already been loaded by Python process is not assured. Please install mkl-service package, see http://github.com/IntelPython/mkl-service\n",
      "  from . import _distributor_init\n",
      "ONNX check passed successfully.\n",
      "\n",
      "========== Converting colorization-v2 to IR (FP16)\n",
      "Conversion command: /home/art3mis/miniconda3/envs/openvino_env/bin/python -- /home/art3mis/miniconda3/envs/openvino_env/bin/mo --framework=onnx --data_type=FP16 --output_dir=model/public/colorization-v2/FP16 --model_name=colorization-v2 --input=data_l --output=color_ab --input_model=model/public/colorization-v2/colorization-v2-eccv16.onnx '--layout=data_l(NCHW)' '--input_shape=[1, 1, 256, 256]'\n",
      "\n",
      "/home/art3mis/miniconda3/envs/openvino_env/lib/python3.7/site-packages/numpy/__init__.py:156: UserWarning: mkl-service package failed to import, therefore Intel(R) MKL initialization ensuring its correct out-of-the box operation under condition when Gnu OpenMP had already been loaded by Python process is not assured. Please install mkl-service package, see http://github.com/IntelPython/mkl-service\n",
      "  from . import _distributor_init\n",
      "/home/art3mis/miniconda3/envs/openvino_env/lib/python3.7/site-packages/numpy/__init__.py:156: UserWarning: mkl-service package failed to import, therefore Intel(R) MKL initialization ensuring its correct out-of-the box operation under condition when Gnu OpenMP had already been loaded by Python process is not assured. Please install mkl-service package, see http://github.com/IntelPython/mkl-service\n",
      "  from . import _distributor_init\n",
      "Model Optimizer arguments:\n",
      "Common parameters:\n",
      "\t- Path to the Input Model: \t/mnt/Backup/my_works/openvino_notebooks/notebooks/224-vision-image-colorization/model/public/colorization-v2/colorization-v2-eccv16.onnx\n",
      "\t- Path for generated IR: \t/mnt/Backup/my_works/openvino_notebooks/notebooks/224-vision-image-colorization/model/public/colorization-v2/FP16\n",
      "\t- IR output name: \tcolorization-v2\n",
      "\t- Log level: \tERROR\n",
      "\t- Batch: \tNot specified, inherited from the model\n",
      "\t- Input layers: \tdata_l\n",
      "\t- Output layers: \tcolor_ab\n",
      "\t- Input shapes: \t[1, 1, 256, 256]\n",
      "\t- Source layout: \tNot specified\n",
      "\t- Target layout: \tNot specified\n",
      "\t- Layout: \tdata_l(NCHW)\n",
      "\t- Mean values: \tNot specified\n",
      "\t- Scale values: \tNot specified\n",
      "\t- Scale factor: \tNot specified\n",
      "\t- Precision of IR: \tFP16\n",
      "\t- Enable fusing: \tTrue\n",
      "\t- User transformations: \tNot specified\n",
      "\t- Reverse input channels: \tFalse\n",
      "\t- Enable IR generation for fixed input shape: \tFalse\n",
      "\t- Use the transformations config file: \tNone\n",
      "Advanced parameters:\n",
      "\t- Force the usage of legacy Frontend of Model Optimizer for model conversion into IR: \tFalse\n",
      "\t- Force the usage of new Frontend of Model Optimizer for model conversion into IR: \tFalse\n",
      "/home/art3mis/miniconda3/envs/openvino_env/lib/python3.7/site-packages/numpy/__init__.py:156: UserWarning: mkl-service package failed to import, therefore Intel(R) MKL initialization ensuring its correct out-of-the box operation under condition when Gnu OpenMP had already been loaded by Python process is not assured. Please install mkl-service package, see http://github.com/IntelPython/mkl-service\n",
      "  from . import _distributor_init\n",
      "OpenVINO runtime found in: \t/home/art3mis/miniconda3/envs/openvino_env/lib/python3.7/openvino\n",
      "OpenVINO runtime version: \t2022.1.0-7019-cdb9bec7210-releases/2022/1\n",
      "Model Optimizer version: \t2022.1.0-7019-cdb9bec7210-releases/2022/1\n",
      "[ SUCCESS ] Generated IR version 11 model.\n",
      "[ SUCCESS ] XML file: /mnt/Backup/my_works/openvino_notebooks/notebooks/224-vision-image-colorization/model/public/colorization-v2/FP16/colorization-v2.xml\n",
      "[ SUCCESS ] BIN file: /mnt/Backup/my_works/openvino_notebooks/notebooks/224-vision-image-colorization/model/public/colorization-v2/FP16/colorization-v2.bin\n",
      "[ SUCCESS ] Total execution time: 1.16 seconds. \n",
      "[ SUCCESS ] Memory consumed: 341 MB. \n",
      "[ INFO ] The model was converted to IR v11, the latest model format that corresponds to the source DL framework input/output format. While IR v11 is backwards compatible with OpenVINO Inference Engine API v1.0, please use API v2.0 (as of 2022.1) to take advantage of the latest improvements in IR v11.\n",
      "Find more information about API v2.0 and IR v11 at https://docs.openvino.ai\n",
      "\n",
      "========== Converting colorization-v2 to IR (FP32)\n",
      "Conversion command: /home/art3mis/miniconda3/envs/openvino_env/bin/python -- /home/art3mis/miniconda3/envs/openvino_env/bin/mo --framework=onnx --data_type=FP32 --output_dir=model/public/colorization-v2/FP32 --model_name=colorization-v2 --input=data_l --output=color_ab --input_model=model/public/colorization-v2/colorization-v2-eccv16.onnx '--layout=data_l(NCHW)' '--input_shape=[1, 1, 256, 256]' '--layout=data_l(NCHW)' '--input_shape=[1, 1, 256, 256]'\n",
      "\n",
      "/home/art3mis/miniconda3/envs/openvino_env/lib/python3.7/site-packages/numpy/__init__.py:156: UserWarning: mkl-service package failed to import, therefore Intel(R) MKL initialization ensuring its correct out-of-the box operation under condition when Gnu OpenMP had already been loaded by Python process is not assured. Please install mkl-service package, see http://github.com/IntelPython/mkl-service\n",
      "  from . import _distributor_init\n",
      "/home/art3mis/miniconda3/envs/openvino_env/lib/python3.7/site-packages/numpy/__init__.py:156: UserWarning: mkl-service package failed to import, therefore Intel(R) MKL initialization ensuring its correct out-of-the box operation under condition when Gnu OpenMP had already been loaded by Python process is not assured. Please install mkl-service package, see http://github.com/IntelPython/mkl-service\n",
      "  from . import _distributor_init\n",
      "Model Optimizer arguments:\n",
      "Common parameters:\n",
      "\t- Path to the Input Model: \t/mnt/Backup/my_works/openvino_notebooks/notebooks/224-vision-image-colorization/model/public/colorization-v2/colorization-v2-eccv16.onnx\n",
      "\t- Path for generated IR: \t/mnt/Backup/my_works/openvino_notebooks/notebooks/224-vision-image-colorization/model/public/colorization-v2/FP32\n",
      "\t- IR output name: \tcolorization-v2\n",
      "\t- Log level: \tERROR\n",
      "\t- Batch: \tNot specified, inherited from the model\n",
      "\t- Input layers: \tdata_l\n",
      "\t- Output layers: \tcolor_ab\n",
      "\t- Input shapes: \t[1, 1, 256, 256]\n",
      "\t- Source layout: \tNot specified\n",
      "\t- Target layout: \tNot specified\n",
      "\t- Layout: \tdata_l(NCHW)\n",
      "\t- Mean values: \tNot specified\n",
      "\t- Scale values: \tNot specified\n",
      "\t- Scale factor: \tNot specified\n",
      "\t- Precision of IR: \tFP32\n",
      "\t- Enable fusing: \tTrue\n",
      "\t- User transformations: \tNot specified\n",
      "\t- Reverse input channels: \tFalse\n",
      "\t- Enable IR generation for fixed input shape: \tFalse\n",
      "\t- Use the transformations config file: \tNone\n",
      "Advanced parameters:\n",
      "\t- Force the usage of legacy Frontend of Model Optimizer for model conversion into IR: \tFalse\n",
      "\t- Force the usage of new Frontend of Model Optimizer for model conversion into IR: \tFalse\n",
      "/home/art3mis/miniconda3/envs/openvino_env/lib/python3.7/site-packages/numpy/__init__.py:156: UserWarning: mkl-service package failed to import, therefore Intel(R) MKL initialization ensuring its correct out-of-the box operation under condition when Gnu OpenMP had already been loaded by Python process is not assured. Please install mkl-service package, see http://github.com/IntelPython/mkl-service\n",
      "  from . import _distributor_init\n",
      "OpenVINO runtime found in: \t/home/art3mis/miniconda3/envs/openvino_env/lib/python3.7/openvino\n",
      "OpenVINO runtime version: \t2022.1.0-7019-cdb9bec7210-releases/2022/1\n",
      "Model Optimizer version: \t2022.1.0-7019-cdb9bec7210-releases/2022/1\n",
      "[ SUCCESS ] Generated IR version 11 model.\n",
      "[ SUCCESS ] XML file: /mnt/Backup/my_works/openvino_notebooks/notebooks/224-vision-image-colorization/model/public/colorization-v2/FP32/colorization-v2.xml\n",
      "[ SUCCESS ] BIN file: /mnt/Backup/my_works/openvino_notebooks/notebooks/224-vision-image-colorization/model/public/colorization-v2/FP32/colorization-v2.bin\n",
      "[ SUCCESS ] Total execution time: 0.79 seconds. \n",
      "[ SUCCESS ] Memory consumed: 340 MB. \n",
      "[ INFO ] The model was converted to IR v11, the latest model format that corresponds to the source DL framework input/output format. While IR v11 is backwards compatible with OpenVINO Inference Engine API v1.0, please use API v2.0 (as of 2022.1) to take advantage of the latest improvements in IR v11.\n",
      "Find more information about API v2.0 and IR v11 at https://docs.openvino.ai\n",
      "\n"
     ]
    }
   ],
   "source": [
    "!omz_converter --name colorization-v2"
   ]
  },
  {
   "cell_type": "code",
   "execution_count": 1,
   "id": "ba3392bd-fc35-4182-97bb-0eecffc63787",
   "metadata": {},
   "outputs": [
    {
     "name": "stderr",
     "output_type": "stream",
     "text": [
      "/home/art3mis/miniconda3/envs/openvino_env/lib/python3.7/site-packages/numpy/__init__.py:156: UserWarning: mkl-service package failed to import, therefore Intel(R) MKL initialization ensuring its correct out-of-the box operation under condition when Gnu OpenMP had already been loaded by Python process is not assured. Please install mkl-service package, see http://github.com/IntelPython/mkl-service\n",
      "  from . import _distributor_init\n"
     ]
    }
   ],
   "source": [
    "import cv2\n",
    "import numpy as np\n",
    "from openvino.runtime import Core"
   ]
  },
  {
   "cell_type": "code",
   "execution_count": 2,
   "id": "d8dc5285-1059-438b-80ef-7f2021b0e4ef",
   "metadata": {},
   "outputs": [],
   "source": [
    "ie = Core()\n",
    "model = ie.read_model(model=\"public/colorization-v2/FP16/colorization-v2.xml\")\n",
    "compiled_model = ie.compile_model(model=model, device_name=\"CPU\")\n",
    "input_layer = compiled_model.input(0)\n",
    "output_layer = compiled_model.output(0)"
   ]
  },
  {
   "cell_type": "code",
   "execution_count": 3,
   "id": "4f63e273-ebc1-4604-80fd-af73e2e27595",
   "metadata": {},
   "outputs": [],
   "source": [
    "N, C, H, W = list(input_layer.shape)"
   ]
  },
  {
   "cell_type": "code",
   "execution_count": 4,
   "id": "a47519c1-a6dd-468b-845d-96386033e6b6",
   "metadata": {},
   "outputs": [],
   "source": [
    "image = cv2.imread(\"test_images/test.jpg\")\n",
    "if image.shape[2] > 1:\n",
    "    frame = cv2.cvtColor(cv2.cvtColor(image, cv2.COLOR_BGR2GRAY), cv2.COLOR_GRAY2RGB)\n",
    "else:\n",
    "    frame = cv2.cvtColor(image, cv2.COLOR_GRAY2RGB)"
   ]
  },
  {
   "cell_type": "code",
   "execution_count": 8,
   "id": "288d8e4c-9baa-4859-b9dd-c87b49a1385d",
   "metadata": {},
   "outputs": [],
   "source": [
    "img_rgb = frame.astype(np.float32) / 255\n",
    "img_lab = cv2.cvtColor(img_rgb, cv2.COLOR_RGB2Lab)\n",
    "img_l_rs = cv2.resize(img_lab.copy(), (W, H))[:, :, 0]\n",
    "inputs = {}\n",
    "inputs['data_l'] = np.expand_dims(img_l_rs, axis=[0, 1])"
   ]
  },
  {
   "cell_type": "code",
   "execution_count": 9,
   "id": "afccb409-06a0-4e94-8f8a-779628425a3c",
   "metadata": {},
   "outputs": [],
   "source": [
    "infer_request = compiled_model.create_infer_request()"
   ]
  },
  {
   "cell_type": "code",
   "execution_count": 10,
   "id": "16d88dd6-fc60-414a-8fac-0db22a63e1d1",
   "metadata": {},
   "outputs": [],
   "source": [
    "res = infer_request.infer(inputs)[output_layer]"
   ]
  },
  {
   "cell_type": "code",
   "execution_count": 14,
   "id": "73d23aa1-098c-4501-94a9-3c62f6c81f2e",
   "metadata": {},
   "outputs": [],
   "source": [
    "update_res = np.squeeze(res)\n",
    "out = update_res.transpose((1, 2, 0))\n",
    "out = cv2.resize(out, (224, 224))\n",
    "img_lab_out = np.concatenate((img_lab[:, :, 0][:, :, np.newaxis], out), axis=2)\n",
    "img_bgr_out = np.clip(cv2.cvtColor(img_lab_out, cv2.COLOR_Lab2BGR), 0, 1)\n",
    "original_image = cv2.resize(image,(224, 224))\n",
    "grayscale_image = cv2.resize(frame, (224, 224))\n",
    "colorize_image = (cv2.resize(img_bgr_out, (224, 224)) * 255).astype(np.uint8)\n",
    "lab_image = cv2.resize(img_lab_out, (224, 224)).astype(np.uint8)"
   ]
  },
  {
   "cell_type": "code",
   "execution_count": 15,
   "id": "b6ca70e3-0822-438a-bf6c-e201715f79cb",
   "metadata": {},
   "outputs": [
    {
     "data": {
      "text/plain": [
       "True"
      ]
     },
     "execution_count": 15,
     "metadata": {},
     "output_type": "execute_result"
    }
   ],
   "source": [
    "cv2.imwrite(\"Colorized.png\", colorize_image)"
   ]
  }
 ],
 "metadata": {
  "kernelspec": {
   "display_name": "Python 3 (ipykernel)",
   "language": "python",
   "name": "python3"
  },
  "language_info": {
   "codemirror_mode": {
    "name": "ipython",
    "version": 3
   },
   "file_extension": ".py",
   "mimetype": "text/x-python",
   "name": "python",
   "nbconvert_exporter": "python",
   "pygments_lexer": "ipython3",
   "version": "3.7.11"
  }
 },
 "nbformat": 4,
 "nbformat_minor": 5
}
